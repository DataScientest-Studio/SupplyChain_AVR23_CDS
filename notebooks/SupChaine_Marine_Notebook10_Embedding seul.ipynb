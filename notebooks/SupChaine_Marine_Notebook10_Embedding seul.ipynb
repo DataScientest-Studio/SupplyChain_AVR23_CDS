{
 "cells": [
  {
   "cell_type": "code",
   "execution_count": 42,
   "id": "c11518da",
   "metadata": {},
   "outputs": [
    {
     "data": {
      "text/html": [
       "<div>\n",
       "<style scoped>\n",
       "    .dataframe tbody tr th:only-of-type {\n",
       "        vertical-align: middle;\n",
       "    }\n",
       "\n",
       "    .dataframe tbody tr th {\n",
       "        vertical-align: top;\n",
       "    }\n",
       "\n",
       "    .dataframe thead th {\n",
       "        text-align: right;\n",
       "    }\n",
       "</style>\n",
       "<table border=\"1\" class=\"dataframe\">\n",
       "  <thead>\n",
       "    <tr style=\"text-align: right;\">\n",
       "      <th></th>\n",
       "      <th>notes</th>\n",
       "      <th>commentaire</th>\n",
       "    </tr>\n",
       "  </thead>\n",
       "  <tbody>\n",
       "    <tr>\n",
       "      <th>0</th>\n",
       "      <td>1</td>\n",
       "      <td>Conseils maquillages nuls ! un mascara qui fai...</td>\n",
       "    </tr>\n",
       "    <tr>\n",
       "      <th>1</th>\n",
       "      <td>1</td>\n",
       "      <td>Colis non encore reçu après deux semaines - il...</td>\n",
       "    </tr>\n",
       "    <tr>\n",
       "      <th>2</th>\n",
       "      <td>5</td>\n",
       "      <td>J'ai été merveilleusement accueillie et consei...</td>\n",
       "    </tr>\n",
       "    <tr>\n",
       "      <th>3</th>\n",
       "      <td>1</td>\n",
       "      <td>Mais plus jamais, jamais , jamais!!! Sensé ouv...</td>\n",
       "    </tr>\n",
       "    <tr>\n",
       "      <th>4</th>\n",
       "      <td>1</td>\n",
       "      <td>Toujours pas de remboursement après un mois et...</td>\n",
       "    </tr>\n",
       "  </tbody>\n",
       "</table>\n",
       "</div>"
      ],
      "text/plain": [
       "   notes                                        commentaire\n",
       "0      1  Conseils maquillages nuls ! un mascara qui fai...\n",
       "1      1  Colis non encore reçu après deux semaines - il...\n",
       "2      5  J'ai été merveilleusement accueillie et consei...\n",
       "3      1  Mais plus jamais, jamais , jamais!!! Sensé ouv...\n",
       "4      1  Toujours pas de remboursement après un mois et..."
      ]
     },
     "execution_count": 42,
     "metadata": {},
     "output_type": "execute_result"
    }
   ],
   "source": [
    "import numpy as np\n",
    "import pandas as pd\n",
    "from sklearn.model_selection import train_test_split\n",
    "from tensorflow.keras.models import Sequential\n",
    "from tensorflow.keras.layers import Embedding, LSTM, Dense, SpatialDropout1D\n",
    "from tensorflow.keras.preprocessing.text import Tokenizer\n",
    "from tensorflow.keras.preprocessing.sequence import pad_sequences\n",
    "\n",
    "\n",
    "df_complet=pd.read_csv('Compilation webscrapping cosmetique.csv')\n",
    "df = df_complet[['notes', 'commentaire']]\n",
    "\n",
    "df.head()"
   ]
  },
  {
   "cell_type": "code",
   "execution_count": 43,
   "id": "38e71a04",
   "metadata": {},
   "outputs": [],
   "source": [
    "import warnings\n",
    "warnings.filterwarnings('ignore')"
   ]
  },
  {
   "cell_type": "code",
   "execution_count": 44,
   "id": "f513feff",
   "metadata": {},
   "outputs": [],
   "source": [
    "df['notes'] = df['notes'].astype('category')\n",
    "\n",
    "X_train, X_test, y_train, y_test = train_test_split(df['commentaire'], df['notes'], test_size=0.2, random_state=42)\n",
    "\n",
    "num_classes = len(df['notes'].cat.categories)\n",
    "\n",
    "max_words = 1000  \n",
    "max_len = 100 \n",
    "\n",
    "tokenizer = Tokenizer(num_words=max_words)\n",
    "tokenizer.fit_on_texts(X_train)\n",
    "\n",
    "X_train_text = tokenizer.texts_to_sequences(X_train)\n",
    "X_test_text = tokenizer.texts_to_sequences(X_test)\n",
    "\n",
    "train_text = pad_sequences(X_train_text, maxlen=max_len)\n",
    "test_text = pad_sequences(X_test_text, maxlen=max_len)\n"
   ]
  },
  {
   "cell_type": "code",
   "execution_count": 45,
   "id": "741ec40e",
   "metadata": {},
   "outputs": [
    {
     "name": "stdout",
     "output_type": "stream",
     "text": [
      "Model: \"sequential_4\"\n",
      "_________________________________________________________________\n",
      " Layer (type)                Output Shape              Param #   \n",
      "=================================================================\n",
      " embedding_4 (Embedding)     (None, 100, 50)           50000     \n",
      "                                                                 \n",
      " spatial_dropout1d_4 (Spati  (None, 100, 50)           0         \n",
      " alDropout1D)                                                    \n",
      "                                                                 \n",
      " lstm_4 (LSTM)               (None, 100)               60400     \n",
      "                                                                 \n",
      " dense_4 (Dense)             (None, 5)                 505       \n",
      "                                                                 \n",
      "=================================================================\n",
      "Total params: 110905 (433.22 KB)\n",
      "Trainable params: 110905 (433.22 KB)\n",
      "Non-trainable params: 0 (0.00 Byte)\n",
      "_________________________________________________________________\n"
     ]
    }
   ],
   "source": [
    "embedding_dim = 50\n",
    "\n",
    "model = Sequential()\n",
    "model.add(Embedding(input_dim=max_words, output_dim=embedding_dim, input_length=max_len))\n",
    "model.add(SpatialDropout1D(0.2))\n",
    "model.add(LSTM(100))\n",
    "model.add(Dense(num_classes, activation='softmax'))\n",
    "\n",
    "model.compile(optimizer='adam', loss='categorical_crossentropy', metrics=['accuracy'])\n",
    "\n",
    "model.summary()\n"
   ]
  },
  {
   "cell_type": "code",
   "execution_count": 46,
   "id": "af56e1cd",
   "metadata": {},
   "outputs": [],
   "source": [
    "from tensorflow.keras.utils import to_categorical\n",
    "\n",
    "y_train_cat = to_categorical(y_train.cat.codes)\n",
    "y_test_cat = to_categorical(y_test.cat.codes)\n"
   ]
  },
  {
   "cell_type": "code",
   "execution_count": 47,
   "id": "a4f0ede8",
   "metadata": {},
   "outputs": [
    {
     "name": "stdout",
     "output_type": "stream",
     "text": [
      "Epoch 1/5\n",
      "124/124 [==============================] - 8s 48ms/step - loss: 0.9493 - accuracy: 0.6886 - val_loss: 0.6194 - val_accuracy: 0.8214\n",
      "Epoch 2/5\n",
      "124/124 [==============================] - 5s 41ms/step - loss: 0.6515 - accuracy: 0.7986 - val_loss: 0.5868 - val_accuracy: 0.8325\n",
      "Epoch 3/5\n",
      "124/124 [==============================] - 5s 41ms/step - loss: 0.5860 - accuracy: 0.8153 - val_loss: 0.5702 - val_accuracy: 0.8325\n",
      "Epoch 4/5\n",
      "124/124 [==============================] - 5s 42ms/step - loss: 0.5264 - accuracy: 0.8347 - val_loss: 0.5512 - val_accuracy: 0.8385\n",
      "Epoch 5/5\n",
      "124/124 [==============================] - 5s 41ms/step - loss: 0.4699 - accuracy: 0.8451 - val_loss: 0.5773 - val_accuracy: 0.8244\n"
     ]
    },
    {
     "data": {
      "text/plain": [
       "<keras.src.callbacks.History at 0x1eabd3b3ed0>"
      ]
     },
     "execution_count": 47,
     "metadata": {},
     "output_type": "execute_result"
    }
   ],
   "source": [
    "batch_size = 32\n",
    "epochs = 5\n",
    "\n",
    "model.fit(train_text, y_train_cat, epochs=epochs, batch_size=batch_size, validation_split=0.2)\n"
   ]
  },
  {
   "cell_type": "code",
   "execution_count": 48,
   "id": "b0b3894e",
   "metadata": {},
   "outputs": [
    {
     "name": "stdout",
     "output_type": "stream",
     "text": [
      "39/39 [==============================] - 1s 15ms/step - loss: 0.6070 - accuracy: 0.8200\n",
      "L accuracy sur notre jeu de test est :  0.8200161457061768\n"
     ]
    }
   ],
   "source": [
    "loss, accuracy = model.evaluate(test_text, y_test_cat)\n",
    "print(\"L accuracy sur notre jeu de test est : \", accuracy)\n"
   ]
  },
  {
   "cell_type": "code",
   "execution_count": 51,
   "id": "b590083e",
   "metadata": {},
   "outputs": [
    {
     "name": "stdout",
     "output_type": "stream",
     "text": [
      "1/1 [==============================] - 0s 26ms/step\n",
      "La note prédite est de :  5\n"
     ]
    }
   ],
   "source": [
    "# Essai sur un très bon commentaire\n",
    "comm1 = [\"C'est un produit magique !\"]\n",
    "\n",
    "comm1_text = tokenizer.texts_to_sequences(comm1)\n",
    "comm1_text = pad_sequences(comm1_text, maxlen=max_len)\n",
    "\n",
    "prediction = model.predict(comm1_text)\n",
    "predicted_class = np.argmax(prediction)\n",
    "print(\"La note prédite est de : \", predicted_class+1)\n"
   ]
  },
  {
   "cell_type": "code",
   "execution_count": 52,
   "id": "10c131f2",
   "metadata": {},
   "outputs": [
    {
     "name": "stdout",
     "output_type": "stream",
     "text": [
      "1/1 [==============================] - 0s 26ms/step\n",
      "La note prédite est de :  1\n"
     ]
    }
   ],
   "source": [
    "# Essai sur un très mauvais commentaire\n",
    "comm2 = [\"Horrible. Marque à fuir malgré les prix attractifs!\"]\n",
    "\n",
    "comm2_text = tokenizer.texts_to_sequences(comm2)\n",
    "comm2_text = pad_sequences(comm2_text, maxlen=max_len)\n",
    "\n",
    "prediction2 = model.predict(comm2_text)\n",
    "predicted_class2 = np.argmax(prediction2)\n",
    "print(\"La note prédite est de : \", predicted_class2+1)\n"
   ]
  },
  {
   "cell_type": "code",
   "execution_count": 53,
   "id": "6581cad6",
   "metadata": {},
   "outputs": [
    {
     "name": "stdout",
     "output_type": "stream",
     "text": [
      "1/1 [==============================] - 0s 27ms/step\n",
      "La note prédite est de :  1\n"
     ]
    }
   ],
   "source": [
    "# Essai sur les commentaires du projet supply chaine\n",
    "comm3 = [\"C'est une mauvaise marque ; les produits ne sont pas qualitatifs\"]\n",
    "\n",
    "comm3_text = tokenizer.texts_to_sequences(comm3)\n",
    "comm3_text = pad_sequences(comm3_text, maxlen=max_len)\n",
    "\n",
    "prediction3 = model.predict(comm3_text)\n",
    "predicted_class3 = np.argmax(prediction3)\n",
    "print(\"La note prédite est de : \", predicted_class3+1)"
   ]
  },
  {
   "cell_type": "code",
   "execution_count": 54,
   "id": "6c6be494",
   "metadata": {},
   "outputs": [
    {
     "name": "stdout",
     "output_type": "stream",
     "text": [
      "1/1 [==============================] - 0s 25ms/step\n",
      "La note prédite est de :  5\n"
     ]
    }
   ],
   "source": [
    "# Essai sur les commentaires du projet supply chaine\n",
    "comm4 = [\"J'apprécie beaucoup cette marque. Bien que le site soit en ligne, ils sont très réactifs.\"]\n",
    "\n",
    "comm4_text = tokenizer.texts_to_sequences(comm4)\n",
    "comm4_text = pad_sequences(comm4_text, maxlen=max_len)\n",
    "\n",
    "prediction4 = model.predict(comm4_text)\n",
    "predicted_class4 = np.argmax(prediction4)\n",
    "print(\"La note prédite est de : \", predicted_class4+1)"
   ]
  },
  {
   "cell_type": "code",
   "execution_count": 55,
   "id": "69925527",
   "metadata": {},
   "outputs": [
    {
     "name": "stdout",
     "output_type": "stream",
     "text": [
      "1/1 [==============================] - 0s 27ms/step\n",
      "La note prédite est de :  5\n"
     ]
    }
   ],
   "source": [
    "# Essai sur les commentaires du projet supply chaine\n",
    "comm5 = [\"C’est super, les prix sont tops \"]\n",
    "\n",
    "comm5_text = tokenizer.texts_to_sequences(comm5)\n",
    "comm5_text = pad_sequences(comm5_text, maxlen=max_len)\n",
    "\n",
    "prediction5 = model.predict(comm5_text)\n",
    "predicted_class5 = np.argmax(prediction5)\n",
    "print(\"La note prédite est de : \", predicted_class5+1)"
   ]
  },
  {
   "cell_type": "code",
   "execution_count": 56,
   "id": "378167ee",
   "metadata": {},
   "outputs": [
    {
     "name": "stdout",
     "output_type": "stream",
     "text": [
      "1/1 [==============================] - 0s 27ms/step\n",
      "La note prédite est de :  1\n"
     ]
    }
   ],
   "source": [
    "# Essai sur les commentaires du projet supply chaine\n",
    "comm6 = [\"Site nul ! Service client ne m’a même pas répondu\"]\n",
    "\n",
    "comm6_text = tokenizer.texts_to_sequences(comm6)\n",
    "comm6_text = pad_sequences(comm6_text, maxlen=max_len)\n",
    "\n",
    "prediction6 = model.predict(comm6_text)\n",
    "predicted_class6 = np.argmax(prediction6)\n",
    "print(\"La note prédite est de : \", predicted_class6+1)"
   ]
  },
  {
   "cell_type": "code",
   "execution_count": 57,
   "id": "fbf9d27e",
   "metadata": {},
   "outputs": [
    {
     "name": "stdout",
     "output_type": "stream",
     "text": [
      "1/1 [==============================] - 0s 27ms/step\n",
      "La note prédite est de :  4\n"
     ]
    }
   ],
   "source": [
    "# Essai sur un nouveau commentaires pour projet supply chaine\n",
    "comm7 = [\"Je suis partagé. Les prix sont attractifs. Les produits s usent dans le temps et ne résistent pas.\"]\n",
    "\n",
    "comm7_text = tokenizer.texts_to_sequences(comm7)\n",
    "comm7_text = pad_sequences(comm7_text, maxlen=max_len)\n",
    "\n",
    "prediction7 = model.predict(comm7_text)\n",
    "predicted_class7 = np.argmax(prediction7)\n",
    "print(\"La note prédite est de : \", predicted_class7+1)"
   ]
  }
 ],
 "metadata": {
  "kernelspec": {
   "display_name": "Python 3 (ipykernel)",
   "language": "python",
   "name": "python3"
  },
  "language_info": {
   "codemirror_mode": {
    "name": "ipython",
    "version": 3
   },
   "file_extension": ".py",
   "mimetype": "text/x-python",
   "name": "python",
   "nbconvert_exporter": "python",
   "pygments_lexer": "ipython3",
   "version": "3.11.2"
  }
 },
 "nbformat": 4,
 "nbformat_minor": 5
}
